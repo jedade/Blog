{
  "nbformat": 4,
  "nbformat_minor": 0,
  "metadata": {
    "colab": {
      "provenance": [],
      "mount_file_id": "1gUUt1TPdw65ERzp3G43PgZDJ6qdt3pKc",
      "authorship_tag": "ABX9TyMUvuY8+uJc9Ys/OypXXrDY",
      "include_colab_link": true
    },
    "kernelspec": {
      "name": "python3",
      "display_name": "Python 3"
    },
    "language_info": {
      "name": "python"
    }
  },
  "cells": [
    {
      "cell_type": "markdown",
      "metadata": {
        "id": "view-in-github",
        "colab_type": "text"
      },
      "source": [
        "<a href=\"https://colab.research.google.com/github/jedade/Blog/blob/main/first.ipynb\" target=\"_parent\"><img src=\"https://colab.research.google.com/assets/colab-badge.svg\" alt=\"Open In Colab\"/></a>"
      ]
    },
    {
      "cell_type": "code",
      "source": [
        "!pip install jsonlines"
      ],
      "metadata": {
        "id": "JowXoDKV_KCZ",
        "colab": {
          "base_uri": "https://localhost:8080/"
        },
        "outputId": "2f7b3e09-96fe-4518-8a7e-02f2c3b67794"
      },
      "execution_count": null,
      "outputs": [
        {
          "output_type": "stream",
          "name": "stdout",
          "text": [
            "Looking in indexes: https://pypi.org/simple, https://us-python.pkg.dev/colab-wheels/public/simple/\n",
            "Collecting jsonlines\n",
            "  Downloading jsonlines-3.1.0-py3-none-any.whl (8.6 kB)\n",
            "Requirement already satisfied: attrs>=19.2.0 in /usr/local/lib/python3.10/dist-packages (from jsonlines) (23.1.0)\n",
            "Installing collected packages: jsonlines\n",
            "Successfully installed jsonlines-3.1.0\n"
          ]
        }
      ]
    },
    {
      "cell_type": "code",
      "execution_count": 10,
      "metadata": {
        "id": "9eDcNrJYUUzz",
        "colab": {
          "base_uri": "https://localhost:8080/"
        },
        "outputId": "46b18c8e-c3a8-45d5-8343-427a2d06d038"
      },
      "outputs": [
        {
          "output_type": "stream",
          "name": "stdout",
          "text": [
            "['886', '887', '2027', '2200', '2278', '2279', '2280', '2281', '2282', '2283', '2284', '2285', '2286', '2287', '2288', '2289', '2290', '2291', '2292', '2293', '2294', '2295', '2296', '2297', '2298', '2299', '2300', '2301', '2302', '2303', '2304', '2305', '2306', '2307', '2308', '2309', '2310', '2311', '2312', '2313', '2314', '2315', '2316', '2317', '2318', '2319', '2320', '2321', '2322', '2323', '2324', '2325', '2326', '2327', '2328', '2329', '2330', '2331', '2332', '2333', '2334', '2335', '2336', '2337', '2338', '2339', '2340', '2341', '2342', '2343', '2344', '2345', '2346', '2347', '2348', '2349', '2350', '2351', '2352', '2353', '2354', '2355', '2356', '2357', '2358', '2359', '2360', '2361', '2362', '2363', '2364', '2365', '2366', '2367', '2368', '2369', '2370', '2371', '2372', '2373', '2374', '2375', '2376', '2377', '2481', '2482', '2483', '2484', '2485', '2486', '2917', '3196', '3215', '3256', '3259', '3294', '3295', '3296', '3297', '3298', '3299', '3305', '5410', '5436', '5511', '5583', '5630', '6738', '8218', '8228', '8255', '8304', '8309', '8310', '8352', '8361', '8362', '8399', '8487', '8528', '8554', '8565', '8635', '8677', '8723', '8784', '8839', '8891', '8908', '8921', '8975', '8999', '9003', '9036', '9089', '9149', '9159', '9168', '9180', '12318', '12322', '12351', '12362', '12395', '12409', '12472', '12516', '12523', '12536', '12565', '12566', '12601', '12626', '12629', '12645', '12664', '12670', '12696', '12727', '12765', '12771', '12801', '12807', '12811', '12818', '12826', '12844', '12876', '13001', '13013', '13014', '13034', '13193', '13223', '13273', '14489', '15401', '15422', '15436', '15489', '15543', '15557', '15674', '15681', '15762', '15826', '15829', '15846', '15847', '15890', '16028', '16057', '16071', '16073', '16077', '16080', '16101', '16128', '16136', '16140', '16189', '16211', '16236', '16252', '16254', '16258', '16276', '16347', '16363', '20493', '20529', '20541', '20565', '20585', '20617', '20672', '20675', '20756', '20766', '20824', '20900', '20917', '20926', '20986', '20989', '20994', '21000', '21033', '21070', '21093', '21094', '21137', '21203', '21212', '21247', '21272', '21304', '21319', '21349', '21409', '21502', '21538', '24600', '24711', '24763', '24776', '24843', '24904', '24935', '24954', '24990', '25009', '25057', '25113', '25117', '25186', '25187', '25215', '25286', '25358', '25361', '25426', '25540', '25593', '28708', '28768', '28774', '28855', '29057', '29075', '29092', '29104', '29110', '29118', '29137', '29152', '29169', '29199', '29246', '29264', '29283', '29301', '29322', '29326', '29372', '29447', '29513', '29605', '29608', '29660', '29669', '29679', '30741', '30761', '30781', '30801', '30839', '30889', '30907', '30919', '30972', '31104', '31132', '31136', '31167', '31178', '31180', '31216', '31221', '31235', '31328', '31367', '31375']\n"
          ]
        }
      ],
      "source": [
        "\"\"\" Ressource\n",
        "https://github.com/RIPE-NCC/nro-delegated-stats/blob/main/Reports.md\n",
        "\n",
        "\"\"\"\n",
        "\n",
        "def get_asn_by_country(filename, country):\n",
        "    asns = []\n",
        "    datas = []\n",
        "    with open(filename, 'r') as file:\n",
        "        lines = file.readlines()\n",
        "        for line in lines:\n",
        "            datas.append(line.strip().split('|'))\n",
        "    for data in datas:\n",
        "        if data[2] == 'asn'  and data[1] == country:\n",
        "            #print(data)\n",
        "            asns.append(data[3])\n",
        "    return asns\n",
        "\n",
        "\n",
        "path_file = '/content/nro-delegated-stats'  # Remplacez par le nom de votre fichier de données\n",
        "\n",
        "country = 'FR'  # Remplacez par le code pays de recherche souhaité\n",
        "\n",
        "list_asn = get_asn_by_country(path_file, country)\n",
        "\n",
        "print(list_asn)\n",
        "\n",
        "\n"
      ]
    },
    {
      "cell_type": "code",
      "source": [
        "from IPython.core import async_helpers\n",
        "import csv\n",
        "\n",
        "# Path of file\n",
        "file_csv_output = '/content/2023-05_categorized_ases.csv'\n",
        "\n",
        "def get_asn_category(asn):\n",
        "\n",
        "  # Ouvrir le fichier CSV d'entrée en mode lecture et le fichier CSV de sortie en mode écriture\n",
        "  with open(file_csv_output, 'r', newline='') as file_entree:\n",
        "      reader_csv = csv.reader(file_entree)\n",
        "      # Parcourir chaque enregistrement dans le fichier CSV d'entrée\n",
        "      asn_format='AS'+asn\n",
        "      print(asn_format)\n",
        "      for row in reader_csv:\n",
        "          if len(row) >= 2 and row[0] == asn_format:\n",
        "              return row[1]\n",
        "\n",
        "category = get_asn_category('2296')\n",
        "print(category)\n"
      ],
      "metadata": {
        "colab": {
          "base_uri": "https://localhost:8080/"
        },
        "id": "r8jZUFwXaHwO",
        "outputId": "ee76b822-1081-4514-f0ca-8de424f233a1"
      },
      "execution_count": 32,
      "outputs": [
        {
          "output_type": "stream",
          "name": "stdout",
          "text": [
            "AS2296\n",
            "Computer and Information Technology\n"
          ]
        }
      ]
    },
    {
      "cell_type": "code",
      "source": [],
      "metadata": {
        "id": "r6op6cnXkagJ"
      },
      "execution_count": null,
      "outputs": []
    }
  ]
}